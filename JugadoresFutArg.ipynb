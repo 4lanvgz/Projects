{
  "nbformat": 4,
  "nbformat_minor": 0,
  "metadata": {
    "colab": {
      "provenance": [],
      "authorship_tag": "ABX9TyNYR0MYxJsVFCO7PAG+XW3+"
    },
    "kernelspec": {
      "name": "python3",
      "display_name": "Python 3"
    },
    "language_info": {
      "name": "python"
    }
  },
  "cells": [
    {
      "cell_type": "markdown",
      "source": [
        "# **Analisis de Centros Delanteros en el futbol Argentino desde 2008 hasta 2022**\n",
        "\n",
        "Base de datos:\n",
        "https://www.kaggle.com/datasets/rodrigogastonrubio/futbolargentino\n",
        "\n",
        "Problematica a responder:\n",
        "\n",
        "Existe la tendencia en el futbol argentino de usar cada vez menos centro delanteros altos (considerados de 180 cm en adelante ) ?\n",
        "\n",
        "Analicemos temporada por temporada"
      ],
      "metadata": {
        "id": "ooo5BoNf1122"
      }
    },
    {
      "cell_type": "code",
      "execution_count": 50,
      "metadata": {
        "id": "7rc-h6AE_PVi"
      },
      "outputs": [],
      "source": [
        "import pandas as pd\n",
        "import numpy as np\n",
        "import matplotlib.pyplot as plt\n",
        "import seaborn as sns"
      ]
    },
    {
      "cell_type": "code",
      "source": [
        "# Definimos el identificador de la hoja de cálculo de Google Sheets\n",
        "Id_planilla = '1O5aNGjVpiDM64iC5RttAD9nEl4lQa_S8'\n",
        "\n",
        "# Construimos la URL para acceder a la hoja de cálculo en formato CSV\n",
        "URL = f'https://docs.google.com/spreadsheets/d/{Id_planilla}/gviz/tq?tqx=out:csv&sheet='"
      ],
      "metadata": {
        "id": "yj7WJNBj_abq"
      },
      "execution_count": 51,
      "outputs": []
    },
    {
      "cell_type": "code",
      "source": [
        "# Convertimos en DataFrame\n",
        "df_DCentro = pd.read_csv(URL + 'Data')"
      ],
      "metadata": {
        "id": "GJJKexPI_eoZ"
      },
      "execution_count": 52,
      "outputs": []
    },
    {
      "cell_type": "code",
      "source": [
        "numfilas=len(df_DCentro)\n",
        "print(numfilas)"
      ],
      "metadata": {
        "colab": {
          "base_uri": "https://localhost:8080/"
        },
        "id": "3KbbLnv-vnRe",
        "outputId": "7ffa0055-e915-4b82-b8f5-09de5cef3340"
      },
      "execution_count": 54,
      "outputs": [
        {
          "output_type": "stream",
          "name": "stdout",
          "text": [
            "12092\n"
          ]
        }
      ]
    },
    {
      "cell_type": "code",
      "source": [
        "#Contar los NaN de las columnas\n",
        "df_DCentro.isna().sum()\n"
      ],
      "metadata": {
        "colab": {
          "base_uri": "https://localhost:8080/"
        },
        "id": "OM4ZnpqdtFn5",
        "outputId": "21685c5b-3026-4bdb-aebb-b06b22826de5"
      },
      "execution_count": 55,
      "outputs": [
        {
          "output_type": "execute_result",
          "data": {
            "text/plain": [
              "Jugadores              0\n",
              "Posicion               0\n",
              "Edad                   2\n",
              "Altura               268\n",
              "Pie                  357\n",
              "Fichado                0\n",
              "Equipo Anterior     1536\n",
              "Valor de mercado    1704\n",
              "Temporada              0\n",
              "Club                   1\n",
              "dtype: int64"
            ]
          },
          "metadata": {},
          "execution_count": 55
        }
      ]
    },
    {
      "cell_type": "code",
      "source": [
        "#Analizar si hay duplicados y NaN\n",
        "duplicados_Jugadores=df_DCentro.duplicated()\n",
        "duplicados_Jugadores.sum()"
      ],
      "metadata": {
        "colab": {
          "base_uri": "https://localhost:8080/"
        },
        "id": "GsiDD81sq2D1",
        "outputId": "a1392510-11b6-4353-ab1c-9e245184ff46"
      },
      "execution_count": 56,
      "outputs": [
        {
          "output_type": "execute_result",
          "data": {
            "text/plain": [
              "0"
            ]
          },
          "metadata": {},
          "execution_count": 56
        }
      ]
    },
    {
      "cell_type": "code",
      "source": [
        "#Voy a utilizar solo las columnas Jugadores, Posicion, Altura y Club\n",
        "columnas_a_eliminar = ['Edad', 'Pie', 'Fichado', 'Equipo Anterior','Valor de mercado']\n",
        "df_DCentro.drop(columns=columnas_a_eliminar, inplace=True)\n"
      ],
      "metadata": {
        "id": "kDFk-0Z8tjJ6"
      },
      "execution_count": 57,
      "outputs": []
    },
    {
      "cell_type": "code",
      "source": [
        "numfilas=len(df_DCentro)\n",
        "print(numfilas)\n",
        "\n",
        "display(df_DCentro.head())"
      ],
      "metadata": {
        "colab": {
          "base_uri": "https://localhost:8080/",
          "height": 224
        },
        "id": "ZVlBoXhXuzou",
        "outputId": "3cdb7f88-0757-46ed-f60b-ec0ab7067b49"
      },
      "execution_count": 59,
      "outputs": [
        {
          "output_type": "stream",
          "name": "stdout",
          "text": [
            "12092\n"
          ]
        },
        {
          "output_type": "display_data",
          "data": {
            "text/plain": [
              "           Jugadores        Posicion Altura  Temporada                Club\n",
              "0     Nicolás Gianni  Centrocampista   1,75       2008  Argentinos Juniors\n",
              "1   Maximiliano Sola         Defensa   1,80       2008  Argentinos Juniors\n",
              "2    Nicolás Navarro         Portero   1,90       2008  Argentinos Juniors\n",
              "3       Juan Carrera         Portero   1,91       2008  Argentinos Juniors\n",
              "4  Sebastián Torrico         Portero   1,86       2008  Argentinos Juniors"
            ],
            "text/html": [
              "\n",
              "  <div id=\"df-853dc9ff-472d-49c4-b80b-7bc4e03e0ada\" class=\"colab-df-container\">\n",
              "    <div>\n",
              "<style scoped>\n",
              "    .dataframe tbody tr th:only-of-type {\n",
              "        vertical-align: middle;\n",
              "    }\n",
              "\n",
              "    .dataframe tbody tr th {\n",
              "        vertical-align: top;\n",
              "    }\n",
              "\n",
              "    .dataframe thead th {\n",
              "        text-align: right;\n",
              "    }\n",
              "</style>\n",
              "<table border=\"1\" class=\"dataframe\">\n",
              "  <thead>\n",
              "    <tr style=\"text-align: right;\">\n",
              "      <th></th>\n",
              "      <th>Jugadores</th>\n",
              "      <th>Posicion</th>\n",
              "      <th>Altura</th>\n",
              "      <th>Temporada</th>\n",
              "      <th>Club</th>\n",
              "    </tr>\n",
              "  </thead>\n",
              "  <tbody>\n",
              "    <tr>\n",
              "      <th>0</th>\n",
              "      <td>Nicolás Gianni</td>\n",
              "      <td>Centrocampista</td>\n",
              "      <td>1,75</td>\n",
              "      <td>2008</td>\n",
              "      <td>Argentinos Juniors</td>\n",
              "    </tr>\n",
              "    <tr>\n",
              "      <th>1</th>\n",
              "      <td>Maximiliano Sola</td>\n",
              "      <td>Defensa</td>\n",
              "      <td>1,80</td>\n",
              "      <td>2008</td>\n",
              "      <td>Argentinos Juniors</td>\n",
              "    </tr>\n",
              "    <tr>\n",
              "      <th>2</th>\n",
              "      <td>Nicolás Navarro</td>\n",
              "      <td>Portero</td>\n",
              "      <td>1,90</td>\n",
              "      <td>2008</td>\n",
              "      <td>Argentinos Juniors</td>\n",
              "    </tr>\n",
              "    <tr>\n",
              "      <th>3</th>\n",
              "      <td>Juan Carrera</td>\n",
              "      <td>Portero</td>\n",
              "      <td>1,91</td>\n",
              "      <td>2008</td>\n",
              "      <td>Argentinos Juniors</td>\n",
              "    </tr>\n",
              "    <tr>\n",
              "      <th>4</th>\n",
              "      <td>Sebastián Torrico</td>\n",
              "      <td>Portero</td>\n",
              "      <td>1,86</td>\n",
              "      <td>2008</td>\n",
              "      <td>Argentinos Juniors</td>\n",
              "    </tr>\n",
              "  </tbody>\n",
              "</table>\n",
              "</div>\n",
              "    <div class=\"colab-df-buttons\">\n",
              "\n",
              "  <div class=\"colab-df-container\">\n",
              "    <button class=\"colab-df-convert\" onclick=\"convertToInteractive('df-853dc9ff-472d-49c4-b80b-7bc4e03e0ada')\"\n",
              "            title=\"Convert this dataframe to an interactive table.\"\n",
              "            style=\"display:none;\">\n",
              "\n",
              "  <svg xmlns=\"http://www.w3.org/2000/svg\" height=\"24px\" viewBox=\"0 -960 960 960\">\n",
              "    <path d=\"M120-120v-720h720v720H120Zm60-500h600v-160H180v160Zm220 220h160v-160H400v160Zm0 220h160v-160H400v160ZM180-400h160v-160H180v160Zm440 0h160v-160H620v160ZM180-180h160v-160H180v160Zm440 0h160v-160H620v160Z\"/>\n",
              "  </svg>\n",
              "    </button>\n",
              "\n",
              "  <style>\n",
              "    .colab-df-container {\n",
              "      display:flex;\n",
              "      gap: 12px;\n",
              "    }\n",
              "\n",
              "    .colab-df-convert {\n",
              "      background-color: #E8F0FE;\n",
              "      border: none;\n",
              "      border-radius: 50%;\n",
              "      cursor: pointer;\n",
              "      display: none;\n",
              "      fill: #1967D2;\n",
              "      height: 32px;\n",
              "      padding: 0 0 0 0;\n",
              "      width: 32px;\n",
              "    }\n",
              "\n",
              "    .colab-df-convert:hover {\n",
              "      background-color: #E2EBFA;\n",
              "      box-shadow: 0px 1px 2px rgba(60, 64, 67, 0.3), 0px 1px 3px 1px rgba(60, 64, 67, 0.15);\n",
              "      fill: #174EA6;\n",
              "    }\n",
              "\n",
              "    .colab-df-buttons div {\n",
              "      margin-bottom: 4px;\n",
              "    }\n",
              "\n",
              "    [theme=dark] .colab-df-convert {\n",
              "      background-color: #3B4455;\n",
              "      fill: #D2E3FC;\n",
              "    }\n",
              "\n",
              "    [theme=dark] .colab-df-convert:hover {\n",
              "      background-color: #434B5C;\n",
              "      box-shadow: 0px 1px 3px 1px rgba(0, 0, 0, 0.15);\n",
              "      filter: drop-shadow(0px 1px 2px rgba(0, 0, 0, 0.3));\n",
              "      fill: #FFFFFF;\n",
              "    }\n",
              "  </style>\n",
              "\n",
              "    <script>\n",
              "      const buttonEl =\n",
              "        document.querySelector('#df-853dc9ff-472d-49c4-b80b-7bc4e03e0ada button.colab-df-convert');\n",
              "      buttonEl.style.display =\n",
              "        google.colab.kernel.accessAllowed ? 'block' : 'none';\n",
              "\n",
              "      async function convertToInteractive(key) {\n",
              "        const element = document.querySelector('#df-853dc9ff-472d-49c4-b80b-7bc4e03e0ada');\n",
              "        const dataTable =\n",
              "          await google.colab.kernel.invokeFunction('convertToInteractive',\n",
              "                                                    [key], {});\n",
              "        if (!dataTable) return;\n",
              "\n",
              "        const docLinkHtml = 'Like what you see? Visit the ' +\n",
              "          '<a target=\"_blank\" href=https://colab.research.google.com/notebooks/data_table.ipynb>data table notebook</a>'\n",
              "          + ' to learn more about interactive tables.';\n",
              "        element.innerHTML = '';\n",
              "        dataTable['output_type'] = 'display_data';\n",
              "        await google.colab.output.renderOutput(dataTable, element);\n",
              "        const docLink = document.createElement('div');\n",
              "        docLink.innerHTML = docLinkHtml;\n",
              "        element.appendChild(docLink);\n",
              "      }\n",
              "    </script>\n",
              "  </div>\n",
              "\n",
              "\n",
              "<div id=\"df-a1eb32d9-4cb4-4b08-979e-0eb44e58cf52\">\n",
              "  <button class=\"colab-df-quickchart\" onclick=\"quickchart('df-a1eb32d9-4cb4-4b08-979e-0eb44e58cf52')\"\n",
              "            title=\"Suggest charts\"\n",
              "            style=\"display:none;\">\n",
              "\n",
              "<svg xmlns=\"http://www.w3.org/2000/svg\" height=\"24px\"viewBox=\"0 0 24 24\"\n",
              "     width=\"24px\">\n",
              "    <g>\n",
              "        <path d=\"M19 3H5c-1.1 0-2 .9-2 2v14c0 1.1.9 2 2 2h14c1.1 0 2-.9 2-2V5c0-1.1-.9-2-2-2zM9 17H7v-7h2v7zm4 0h-2V7h2v10zm4 0h-2v-4h2v4z\"/>\n",
              "    </g>\n",
              "</svg>\n",
              "  </button>\n",
              "\n",
              "<style>\n",
              "  .colab-df-quickchart {\n",
              "      --bg-color: #E8F0FE;\n",
              "      --fill-color: #1967D2;\n",
              "      --hover-bg-color: #E2EBFA;\n",
              "      --hover-fill-color: #174EA6;\n",
              "      --disabled-fill-color: #AAA;\n",
              "      --disabled-bg-color: #DDD;\n",
              "  }\n",
              "\n",
              "  [theme=dark] .colab-df-quickchart {\n",
              "      --bg-color: #3B4455;\n",
              "      --fill-color: #D2E3FC;\n",
              "      --hover-bg-color: #434B5C;\n",
              "      --hover-fill-color: #FFFFFF;\n",
              "      --disabled-bg-color: #3B4455;\n",
              "      --disabled-fill-color: #666;\n",
              "  }\n",
              "\n",
              "  .colab-df-quickchart {\n",
              "    background-color: var(--bg-color);\n",
              "    border: none;\n",
              "    border-radius: 50%;\n",
              "    cursor: pointer;\n",
              "    display: none;\n",
              "    fill: var(--fill-color);\n",
              "    height: 32px;\n",
              "    padding: 0;\n",
              "    width: 32px;\n",
              "  }\n",
              "\n",
              "  .colab-df-quickchart:hover {\n",
              "    background-color: var(--hover-bg-color);\n",
              "    box-shadow: 0 1px 2px rgba(60, 64, 67, 0.3), 0 1px 3px 1px rgba(60, 64, 67, 0.15);\n",
              "    fill: var(--button-hover-fill-color);\n",
              "  }\n",
              "\n",
              "  .colab-df-quickchart-complete:disabled,\n",
              "  .colab-df-quickchart-complete:disabled:hover {\n",
              "    background-color: var(--disabled-bg-color);\n",
              "    fill: var(--disabled-fill-color);\n",
              "    box-shadow: none;\n",
              "  }\n",
              "\n",
              "  .colab-df-spinner {\n",
              "    border: 2px solid var(--fill-color);\n",
              "    border-color: transparent;\n",
              "    border-bottom-color: var(--fill-color);\n",
              "    animation:\n",
              "      spin 1s steps(1) infinite;\n",
              "  }\n",
              "\n",
              "  @keyframes spin {\n",
              "    0% {\n",
              "      border-color: transparent;\n",
              "      border-bottom-color: var(--fill-color);\n",
              "      border-left-color: var(--fill-color);\n",
              "    }\n",
              "    20% {\n",
              "      border-color: transparent;\n",
              "      border-left-color: var(--fill-color);\n",
              "      border-top-color: var(--fill-color);\n",
              "    }\n",
              "    30% {\n",
              "      border-color: transparent;\n",
              "      border-left-color: var(--fill-color);\n",
              "      border-top-color: var(--fill-color);\n",
              "      border-right-color: var(--fill-color);\n",
              "    }\n",
              "    40% {\n",
              "      border-color: transparent;\n",
              "      border-right-color: var(--fill-color);\n",
              "      border-top-color: var(--fill-color);\n",
              "    }\n",
              "    60% {\n",
              "      border-color: transparent;\n",
              "      border-right-color: var(--fill-color);\n",
              "    }\n",
              "    80% {\n",
              "      border-color: transparent;\n",
              "      border-right-color: var(--fill-color);\n",
              "      border-bottom-color: var(--fill-color);\n",
              "    }\n",
              "    90% {\n",
              "      border-color: transparent;\n",
              "      border-bottom-color: var(--fill-color);\n",
              "    }\n",
              "  }\n",
              "</style>\n",
              "\n",
              "  <script>\n",
              "    async function quickchart(key) {\n",
              "      const quickchartButtonEl =\n",
              "        document.querySelector('#' + key + ' button');\n",
              "      quickchartButtonEl.disabled = true;  // To prevent multiple clicks.\n",
              "      quickchartButtonEl.classList.add('colab-df-spinner');\n",
              "      try {\n",
              "        const charts = await google.colab.kernel.invokeFunction(\n",
              "            'suggestCharts', [key], {});\n",
              "      } catch (error) {\n",
              "        console.error('Error during call to suggestCharts:', error);\n",
              "      }\n",
              "      quickchartButtonEl.classList.remove('colab-df-spinner');\n",
              "      quickchartButtonEl.classList.add('colab-df-quickchart-complete');\n",
              "    }\n",
              "    (() => {\n",
              "      let quickchartButtonEl =\n",
              "        document.querySelector('#df-a1eb32d9-4cb4-4b08-979e-0eb44e58cf52 button');\n",
              "      quickchartButtonEl.style.display =\n",
              "        google.colab.kernel.accessAllowed ? 'block' : 'none';\n",
              "    })();\n",
              "  </script>\n",
              "</div>\n",
              "\n",
              "    </div>\n",
              "  </div>\n"
            ],
            "application/vnd.google.colaboratory.intrinsic+json": {
              "type": "dataframe",
              "summary": "{\n  \"name\": \"display(df_DCentro\",\n  \"rows\": 5,\n  \"fields\": [\n    {\n      \"column\": \"Jugadores\",\n      \"properties\": {\n        \"dtype\": \"string\",\n        \"num_unique_values\": 5,\n        \"samples\": [\n          \"Maximiliano Sola\",\n          \"Sebasti\\u00e1n Torrico\",\n          \"Nicol\\u00e1s Navarro\"\n        ],\n        \"semantic_type\": \"\",\n        \"description\": \"\"\n      }\n    },\n    {\n      \"column\": \"Posicion\",\n      \"properties\": {\n        \"dtype\": \"string\",\n        \"num_unique_values\": 3,\n        \"samples\": [\n          \"Centrocampista\",\n          \"Defensa\",\n          \"Portero\"\n        ],\n        \"semantic_type\": \"\",\n        \"description\": \"\"\n      }\n    },\n    {\n      \"column\": \"Altura\",\n      \"properties\": {\n        \"dtype\": \"object\",\n        \"num_unique_values\": 5,\n        \"samples\": [\n          \"1,80\",\n          \"1,86\",\n          \"1,90\"\n        ],\n        \"semantic_type\": \"\",\n        \"description\": \"\"\n      }\n    },\n    {\n      \"column\": \"Temporada\",\n      \"properties\": {\n        \"dtype\": \"number\",\n        \"std\": 0,\n        \"min\": 2008,\n        \"max\": 2008,\n        \"num_unique_values\": 1,\n        \"samples\": [\n          2008\n        ],\n        \"semantic_type\": \"\",\n        \"description\": \"\"\n      }\n    },\n    {\n      \"column\": \"Club\",\n      \"properties\": {\n        \"dtype\": \"category\",\n        \"num_unique_values\": 1,\n        \"samples\": [\n          \"Argentinos Juniors\"\n        ],\n        \"semantic_type\": \"\",\n        \"description\": \"\"\n      }\n    }\n  ]\n}"
            }
          },
          "metadata": {}
        }
      ]
    },
    {
      "cell_type": "code",
      "source": [
        "#Eliminar los NaN de la columna Altura\n",
        "df_DCentro.dropna(subset=['Altura'], inplace=True)\n",
        "#Verificar cuantas filas quedan\n",
        "numfilas=len(df_DCentro)\n",
        "print(numfilas)"
      ],
      "metadata": {
        "colab": {
          "base_uri": "https://localhost:8080/"
        },
        "id": "fNuXZe71wZyW",
        "outputId": "e59c60bc-3636-4582-d245-e59e00d513a5"
      },
      "execution_count": 60,
      "outputs": [
        {
          "output_type": "stream",
          "name": "stdout",
          "text": [
            "11824\n"
          ]
        }
      ]
    },
    {
      "cell_type": "code",
      "source": [
        "#Limpiar las , de la columna Altura por vacio\n",
        "df_DCentro['Altura'] = df_DCentro['Altura'].str.replace(',', '')\n",
        "display(df_DCentro.head())"
      ],
      "metadata": {
        "colab": {
          "base_uri": "https://localhost:8080/",
          "height": 206
        },
        "id": "dIaSPmfsw4Ay",
        "outputId": "9fac897c-9684-4840-de65-3984d4a446ec"
      },
      "execution_count": 61,
      "outputs": [
        {
          "output_type": "display_data",
          "data": {
            "text/plain": [
              "           Jugadores        Posicion Altura  Temporada                Club\n",
              "0     Nicolás Gianni  Centrocampista    175       2008  Argentinos Juniors\n",
              "1   Maximiliano Sola         Defensa    180       2008  Argentinos Juniors\n",
              "2    Nicolás Navarro         Portero    190       2008  Argentinos Juniors\n",
              "3       Juan Carrera         Portero    191       2008  Argentinos Juniors\n",
              "4  Sebastián Torrico         Portero    186       2008  Argentinos Juniors"
            ],
            "text/html": [
              "\n",
              "  <div id=\"df-ea30b52a-68be-4044-9301-7a43107175ef\" class=\"colab-df-container\">\n",
              "    <div>\n",
              "<style scoped>\n",
              "    .dataframe tbody tr th:only-of-type {\n",
              "        vertical-align: middle;\n",
              "    }\n",
              "\n",
              "    .dataframe tbody tr th {\n",
              "        vertical-align: top;\n",
              "    }\n",
              "\n",
              "    .dataframe thead th {\n",
              "        text-align: right;\n",
              "    }\n",
              "</style>\n",
              "<table border=\"1\" class=\"dataframe\">\n",
              "  <thead>\n",
              "    <tr style=\"text-align: right;\">\n",
              "      <th></th>\n",
              "      <th>Jugadores</th>\n",
              "      <th>Posicion</th>\n",
              "      <th>Altura</th>\n",
              "      <th>Temporada</th>\n",
              "      <th>Club</th>\n",
              "    </tr>\n",
              "  </thead>\n",
              "  <tbody>\n",
              "    <tr>\n",
              "      <th>0</th>\n",
              "      <td>Nicolás Gianni</td>\n",
              "      <td>Centrocampista</td>\n",
              "      <td>175</td>\n",
              "      <td>2008</td>\n",
              "      <td>Argentinos Juniors</td>\n",
              "    </tr>\n",
              "    <tr>\n",
              "      <th>1</th>\n",
              "      <td>Maximiliano Sola</td>\n",
              "      <td>Defensa</td>\n",
              "      <td>180</td>\n",
              "      <td>2008</td>\n",
              "      <td>Argentinos Juniors</td>\n",
              "    </tr>\n",
              "    <tr>\n",
              "      <th>2</th>\n",
              "      <td>Nicolás Navarro</td>\n",
              "      <td>Portero</td>\n",
              "      <td>190</td>\n",
              "      <td>2008</td>\n",
              "      <td>Argentinos Juniors</td>\n",
              "    </tr>\n",
              "    <tr>\n",
              "      <th>3</th>\n",
              "      <td>Juan Carrera</td>\n",
              "      <td>Portero</td>\n",
              "      <td>191</td>\n",
              "      <td>2008</td>\n",
              "      <td>Argentinos Juniors</td>\n",
              "    </tr>\n",
              "    <tr>\n",
              "      <th>4</th>\n",
              "      <td>Sebastián Torrico</td>\n",
              "      <td>Portero</td>\n",
              "      <td>186</td>\n",
              "      <td>2008</td>\n",
              "      <td>Argentinos Juniors</td>\n",
              "    </tr>\n",
              "  </tbody>\n",
              "</table>\n",
              "</div>\n",
              "    <div class=\"colab-df-buttons\">\n",
              "\n",
              "  <div class=\"colab-df-container\">\n",
              "    <button class=\"colab-df-convert\" onclick=\"convertToInteractive('df-ea30b52a-68be-4044-9301-7a43107175ef')\"\n",
              "            title=\"Convert this dataframe to an interactive table.\"\n",
              "            style=\"display:none;\">\n",
              "\n",
              "  <svg xmlns=\"http://www.w3.org/2000/svg\" height=\"24px\" viewBox=\"0 -960 960 960\">\n",
              "    <path d=\"M120-120v-720h720v720H120Zm60-500h600v-160H180v160Zm220 220h160v-160H400v160Zm0 220h160v-160H400v160ZM180-400h160v-160H180v160Zm440 0h160v-160H620v160ZM180-180h160v-160H180v160Zm440 0h160v-160H620v160Z\"/>\n",
              "  </svg>\n",
              "    </button>\n",
              "\n",
              "  <style>\n",
              "    .colab-df-container {\n",
              "      display:flex;\n",
              "      gap: 12px;\n",
              "    }\n",
              "\n",
              "    .colab-df-convert {\n",
              "      background-color: #E8F0FE;\n",
              "      border: none;\n",
              "      border-radius: 50%;\n",
              "      cursor: pointer;\n",
              "      display: none;\n",
              "      fill: #1967D2;\n",
              "      height: 32px;\n",
              "      padding: 0 0 0 0;\n",
              "      width: 32px;\n",
              "    }\n",
              "\n",
              "    .colab-df-convert:hover {\n",
              "      background-color: #E2EBFA;\n",
              "      box-shadow: 0px 1px 2px rgba(60, 64, 67, 0.3), 0px 1px 3px 1px rgba(60, 64, 67, 0.15);\n",
              "      fill: #174EA6;\n",
              "    }\n",
              "\n",
              "    .colab-df-buttons div {\n",
              "      margin-bottom: 4px;\n",
              "    }\n",
              "\n",
              "    [theme=dark] .colab-df-convert {\n",
              "      background-color: #3B4455;\n",
              "      fill: #D2E3FC;\n",
              "    }\n",
              "\n",
              "    [theme=dark] .colab-df-convert:hover {\n",
              "      background-color: #434B5C;\n",
              "      box-shadow: 0px 1px 3px 1px rgba(0, 0, 0, 0.15);\n",
              "      filter: drop-shadow(0px 1px 2px rgba(0, 0, 0, 0.3));\n",
              "      fill: #FFFFFF;\n",
              "    }\n",
              "  </style>\n",
              "\n",
              "    <script>\n",
              "      const buttonEl =\n",
              "        document.querySelector('#df-ea30b52a-68be-4044-9301-7a43107175ef button.colab-df-convert');\n",
              "      buttonEl.style.display =\n",
              "        google.colab.kernel.accessAllowed ? 'block' : 'none';\n",
              "\n",
              "      async function convertToInteractive(key) {\n",
              "        const element = document.querySelector('#df-ea30b52a-68be-4044-9301-7a43107175ef');\n",
              "        const dataTable =\n",
              "          await google.colab.kernel.invokeFunction('convertToInteractive',\n",
              "                                                    [key], {});\n",
              "        if (!dataTable) return;\n",
              "\n",
              "        const docLinkHtml = 'Like what you see? Visit the ' +\n",
              "          '<a target=\"_blank\" href=https://colab.research.google.com/notebooks/data_table.ipynb>data table notebook</a>'\n",
              "          + ' to learn more about interactive tables.';\n",
              "        element.innerHTML = '';\n",
              "        dataTable['output_type'] = 'display_data';\n",
              "        await google.colab.output.renderOutput(dataTable, element);\n",
              "        const docLink = document.createElement('div');\n",
              "        docLink.innerHTML = docLinkHtml;\n",
              "        element.appendChild(docLink);\n",
              "      }\n",
              "    </script>\n",
              "  </div>\n",
              "\n",
              "\n",
              "<div id=\"df-2f956d4f-5ed4-4704-866a-70f87c382a7a\">\n",
              "  <button class=\"colab-df-quickchart\" onclick=\"quickchart('df-2f956d4f-5ed4-4704-866a-70f87c382a7a')\"\n",
              "            title=\"Suggest charts\"\n",
              "            style=\"display:none;\">\n",
              "\n",
              "<svg xmlns=\"http://www.w3.org/2000/svg\" height=\"24px\"viewBox=\"0 0 24 24\"\n",
              "     width=\"24px\">\n",
              "    <g>\n",
              "        <path d=\"M19 3H5c-1.1 0-2 .9-2 2v14c0 1.1.9 2 2 2h14c1.1 0 2-.9 2-2V5c0-1.1-.9-2-2-2zM9 17H7v-7h2v7zm4 0h-2V7h2v10zm4 0h-2v-4h2v4z\"/>\n",
              "    </g>\n",
              "</svg>\n",
              "  </button>\n",
              "\n",
              "<style>\n",
              "  .colab-df-quickchart {\n",
              "      --bg-color: #E8F0FE;\n",
              "      --fill-color: #1967D2;\n",
              "      --hover-bg-color: #E2EBFA;\n",
              "      --hover-fill-color: #174EA6;\n",
              "      --disabled-fill-color: #AAA;\n",
              "      --disabled-bg-color: #DDD;\n",
              "  }\n",
              "\n",
              "  [theme=dark] .colab-df-quickchart {\n",
              "      --bg-color: #3B4455;\n",
              "      --fill-color: #D2E3FC;\n",
              "      --hover-bg-color: #434B5C;\n",
              "      --hover-fill-color: #FFFFFF;\n",
              "      --disabled-bg-color: #3B4455;\n",
              "      --disabled-fill-color: #666;\n",
              "  }\n",
              "\n",
              "  .colab-df-quickchart {\n",
              "    background-color: var(--bg-color);\n",
              "    border: none;\n",
              "    border-radius: 50%;\n",
              "    cursor: pointer;\n",
              "    display: none;\n",
              "    fill: var(--fill-color);\n",
              "    height: 32px;\n",
              "    padding: 0;\n",
              "    width: 32px;\n",
              "  }\n",
              "\n",
              "  .colab-df-quickchart:hover {\n",
              "    background-color: var(--hover-bg-color);\n",
              "    box-shadow: 0 1px 2px rgba(60, 64, 67, 0.3), 0 1px 3px 1px rgba(60, 64, 67, 0.15);\n",
              "    fill: var(--button-hover-fill-color);\n",
              "  }\n",
              "\n",
              "  .colab-df-quickchart-complete:disabled,\n",
              "  .colab-df-quickchart-complete:disabled:hover {\n",
              "    background-color: var(--disabled-bg-color);\n",
              "    fill: var(--disabled-fill-color);\n",
              "    box-shadow: none;\n",
              "  }\n",
              "\n",
              "  .colab-df-spinner {\n",
              "    border: 2px solid var(--fill-color);\n",
              "    border-color: transparent;\n",
              "    border-bottom-color: var(--fill-color);\n",
              "    animation:\n",
              "      spin 1s steps(1) infinite;\n",
              "  }\n",
              "\n",
              "  @keyframes spin {\n",
              "    0% {\n",
              "      border-color: transparent;\n",
              "      border-bottom-color: var(--fill-color);\n",
              "      border-left-color: var(--fill-color);\n",
              "    }\n",
              "    20% {\n",
              "      border-color: transparent;\n",
              "      border-left-color: var(--fill-color);\n",
              "      border-top-color: var(--fill-color);\n",
              "    }\n",
              "    30% {\n",
              "      border-color: transparent;\n",
              "      border-left-color: var(--fill-color);\n",
              "      border-top-color: var(--fill-color);\n",
              "      border-right-color: var(--fill-color);\n",
              "    }\n",
              "    40% {\n",
              "      border-color: transparent;\n",
              "      border-right-color: var(--fill-color);\n",
              "      border-top-color: var(--fill-color);\n",
              "    }\n",
              "    60% {\n",
              "      border-color: transparent;\n",
              "      border-right-color: var(--fill-color);\n",
              "    }\n",
              "    80% {\n",
              "      border-color: transparent;\n",
              "      border-right-color: var(--fill-color);\n",
              "      border-bottom-color: var(--fill-color);\n",
              "    }\n",
              "    90% {\n",
              "      border-color: transparent;\n",
              "      border-bottom-color: var(--fill-color);\n",
              "    }\n",
              "  }\n",
              "</style>\n",
              "\n",
              "  <script>\n",
              "    async function quickchart(key) {\n",
              "      const quickchartButtonEl =\n",
              "        document.querySelector('#' + key + ' button');\n",
              "      quickchartButtonEl.disabled = true;  // To prevent multiple clicks.\n",
              "      quickchartButtonEl.classList.add('colab-df-spinner');\n",
              "      try {\n",
              "        const charts = await google.colab.kernel.invokeFunction(\n",
              "            'suggestCharts', [key], {});\n",
              "      } catch (error) {\n",
              "        console.error('Error during call to suggestCharts:', error);\n",
              "      }\n",
              "      quickchartButtonEl.classList.remove('colab-df-spinner');\n",
              "      quickchartButtonEl.classList.add('colab-df-quickchart-complete');\n",
              "    }\n",
              "    (() => {\n",
              "      let quickchartButtonEl =\n",
              "        document.querySelector('#df-2f956d4f-5ed4-4704-866a-70f87c382a7a button');\n",
              "      quickchartButtonEl.style.display =\n",
              "        google.colab.kernel.accessAllowed ? 'block' : 'none';\n",
              "    })();\n",
              "  </script>\n",
              "</div>\n",
              "\n",
              "    </div>\n",
              "  </div>\n"
            ],
            "application/vnd.google.colaboratory.intrinsic+json": {
              "type": "dataframe",
              "summary": "{\n  \"name\": \"display(df_DCentro\",\n  \"rows\": 5,\n  \"fields\": [\n    {\n      \"column\": \"Jugadores\",\n      \"properties\": {\n        \"dtype\": \"string\",\n        \"num_unique_values\": 5,\n        \"samples\": [\n          \"Maximiliano Sola\",\n          \"Sebasti\\u00e1n Torrico\",\n          \"Nicol\\u00e1s Navarro\"\n        ],\n        \"semantic_type\": \"\",\n        \"description\": \"\"\n      }\n    },\n    {\n      \"column\": \"Posicion\",\n      \"properties\": {\n        \"dtype\": \"string\",\n        \"num_unique_values\": 3,\n        \"samples\": [\n          \"Centrocampista\",\n          \"Defensa\",\n          \"Portero\"\n        ],\n        \"semantic_type\": \"\",\n        \"description\": \"\"\n      }\n    },\n    {\n      \"column\": \"Altura\",\n      \"properties\": {\n        \"dtype\": \"string\",\n        \"num_unique_values\": 5,\n        \"samples\": [\n          \"180\",\n          \"186\",\n          \"190\"\n        ],\n        \"semantic_type\": \"\",\n        \"description\": \"\"\n      }\n    },\n    {\n      \"column\": \"Temporada\",\n      \"properties\": {\n        \"dtype\": \"number\",\n        \"std\": 0,\n        \"min\": 2008,\n        \"max\": 2008,\n        \"num_unique_values\": 1,\n        \"samples\": [\n          2008\n        ],\n        \"semantic_type\": \"\",\n        \"description\": \"\"\n      }\n    },\n    {\n      \"column\": \"Club\",\n      \"properties\": {\n        \"dtype\": \"category\",\n        \"num_unique_values\": 1,\n        \"samples\": [\n          \"Argentinos Juniors\"\n        ],\n        \"semantic_type\": \"\",\n        \"description\": \"\"\n      }\n    }\n  ]\n}"
            }
          },
          "metadata": {}
        }
      ]
    },
    {
      "cell_type": "code",
      "source": [
        "df_DCentro.dtypes"
      ],
      "metadata": {
        "colab": {
          "base_uri": "https://localhost:8080/"
        },
        "id": "LIbARSlexdrS",
        "outputId": "26301c02-9e71-44a7-b438-046d026e70fb"
      },
      "execution_count": 62,
      "outputs": [
        {
          "output_type": "execute_result",
          "data": {
            "text/plain": [
              "Jugadores    object\n",
              "Posicion     object\n",
              "Altura       object\n",
              "Temporada     int64\n",
              "Club         object\n",
              "dtype: object"
            ]
          },
          "metadata": {},
          "execution_count": 62
        }
      ]
    },
    {
      "cell_type": "code",
      "source": [
        "#Convertir altura a entero\n",
        "df_DCentro['Altura'] = df_DCentro['Altura'].astype(int)\n",
        "df_DCentro.dtypes"
      ],
      "metadata": {
        "colab": {
          "base_uri": "https://localhost:8080/"
        },
        "id": "iBz14y7Dxhc_",
        "outputId": "8b4fd51d-b312-48fa-e25d-3b6999faa432"
      },
      "execution_count": 63,
      "outputs": [
        {
          "output_type": "execute_result",
          "data": {
            "text/plain": [
              "Jugadores    object\n",
              "Posicion     object\n",
              "Altura        int64\n",
              "Temporada     int64\n",
              "Club         object\n",
              "dtype: object"
            ]
          },
          "metadata": {},
          "execution_count": 63
        }
      ]
    },
    {
      "cell_type": "code",
      "source": [
        "#Altura promedio por temporada referido a la columna posicion con valor delantero centro\n",
        "# Filtrar el DataFrame para incluir solo delanteros centro\n",
        "df_delanteros_centro = df_DCentro[df_DCentro['Posicion'] == 'Delantero centro']\n",
        "\n",
        "# Calcular la altura promedio por temporada\n",
        "altura_promedio_por_temporada = df_delanteros_centro.groupby('Temporada')['Altura'].mean()\n",
        "\n",
        "# Crear el gráfico de líneas con círculos en cada temporada\n",
        "plt.plot(altura_promedio_por_temporada.index, altura_promedio_por_temporada.values, marker='o')\n",
        "#Incluir la referencia promedio arriba de cada punto\n",
        "for x, y in zip(altura_promedio_por_temporada.index, altura_promedio_por_temporada.values):\n",
        "    plt.text(x, y, f'{y:.2f}', ha='center', va='bottom')\n",
        "plt.xlabel('Temporada')\n",
        "plt.ylabel('Altura Promedio')\n",
        "plt.title('Altura Promedio de Delanteros Centro por Temporada')\n",
        "plt.grid(True)\n",
        "plt.show()\n"
      ],
      "metadata": {
        "colab": {
          "base_uri": "https://localhost:8080/",
          "height": 472
        },
        "id": "EYFHlP6ZxQVg",
        "outputId": "ec6fb360-cb86-4de8-8eab-e3174dc257e1"
      },
      "execution_count": 64,
      "outputs": [
        {
          "output_type": "display_data",
          "data": {
            "text/plain": [
              "<Figure size 640x480 with 1 Axes>"
            ],
            "image/png": "[encoded data removed]"
          },
          "metadata": {}
        }
      ]
    },
    {
      "cell_type": "code",
      "source": [
        "# Filtrar el DataFrame para incluir solo delanteros centro\n",
        "df_delanteros_centro = df_DCentro[df_DCentro['Posicion'] == 'Delantero centro']\n",
        "# Filtrar el DataFrame para incluir solo delanteros centro con altura mayor o igual a 180 cm\n",
        "df_delanteros_bajos = df_DCentro[df_DCentro['Altura'] <= 180]\n",
        "\n",
        "df_delanteros_altos = df_DCentro[df_DCentro['Altura'] >= 180]\n",
        "# Contar el número de delanteros altos por temporada\n",
        "conteo_delanteros_altos = df_delanteros_altos.groupby('Temporada')['Jugadores'].count()\n",
        "\n",
        "# Contar el número de delanteros bajos por temporada\n",
        "conteo_delanteros_bajos = df_delanteros_bajos.groupby('Temporada')['Jugadores'].count()\n",
        "\n",
        "# Mostrar el resultado\n",
        "print(\"Delanteros Centro con Altura Mayor o Igual a 180 cm:\")\n",
        "print(conteo_delanteros_altos)\n",
        "\n",
        "print(\"\\nDelanteros Centro con Altura Menor a 180 cm:\")\n",
        "display(conteo_delanteros_bajos)"
      ],
      "metadata": {
        "id": "XBq4AMDz2uwW",
        "colab": {
          "base_uri": "https://localhost:8080/",
          "height": 659
        },
        "outputId": "b751a949-0669-4796-8124-2a9e0e1f9497"
      },
      "execution_count": 89,
      "outputs": [
        {
          "output_type": "stream",
          "name": "stdout",
          "text": [
            "Delanteros Centro con Altura Mayor o Igual a 180 cm:\n",
            "Temporada\n",
            "2008    357\n",
            "2009    339\n",
            "2010    350\n",
            "2011    360\n",
            "2012    344\n",
            "2013    377\n",
            "2014    447\n",
            "2015    382\n",
            "2016    354\n",
            "2017    386\n",
            "2018    358\n",
            "2019    388\n",
            "2020    446\n",
            "2021    379\n",
            "2022    355\n",
            "Name: Jugadores, dtype: int64\n",
            "\n",
            "Delanteros Centro con Altura Menor a 180 cm:\n"
          ]
        },
        {
          "output_type": "display_data",
          "data": {
            "text/plain": [
              "Temporada\n",
              "2008    430\n",
              "2009    426\n",
              "2010    410\n",
              "2011    434\n",
              "2012    423\n",
              "2013    428\n",
              "2014    503\n",
              "2015    474\n",
              "2016    429\n",
              "2017    499\n",
              "2018    457\n",
              "2019    543\n",
              "2020    626\n",
              "2021    484\n",
              "2022    465\n",
              "Name: Jugadores, dtype: int64"
            ]
          },
          "metadata": {}
        }
      ]
    },
    {
      "cell_type": "code",
      "source": [
        "# Agrupar por temporada y altura (alto/bajo) y contar jugadores\n",
        "conteo_por_temporada_altura = df_DCentro.groupby(['Temporada', df_DCentro['Altura'] >= 180])['Jugadores'].count().unstack(fill_value=0)\n",
        "\n",
        "# Crear el gráfico de barras\n",
        "ax = conteo_por_temporada_altura.plot(kind='bar', figsize=(10, 6))\n",
        "\n",
        "# Agregar etiquetas con las cantidades en el centro de cada barra\n",
        "for p in ax.patches:\n",
        "    width, height = p.get_width(), p.get_height()\n",
        "    x, y = p.get_xy()\n",
        "    ax.annotate(f'{height}', (x + width/2, y + height/2), ha='center', va='center')\n",
        "\n",
        "plt.xlabel('Temporadas')\n",
        "plt.ylabel('Número de Delanteros Centro')\n",
        "plt.title('Conteo de Delanteros Centro Altos y Bajos por Temporada')\n",
        "plt.legend(['Bajos (< 180 cm)', 'Altos (>= 180 cm)'])\n",
        "plt.grid(True)\n",
        "plt.show()"
      ],
      "metadata": {
        "colab": {
          "base_uri": "https://localhost:8080/",
          "height": 585
        },
        "id": "kZ_ftfQWBXOg",
        "outputId": "3cf0c746-09d5-40f2-a9ce-f203edbdef97"
      },
      "execution_count": 106,
      "outputs": [
        {
          "output_type": "display_data",
          "data": {
            "text/plain": [
              "<Figure size 1000x600 with 1 Axes>"
            ],
            "image/png": "[encoded data removed]"
          },
          "metadata": {}
        }
      ]
    },
    {
      "cell_type": "markdown",
      "source": [
        "**Conclusiones**\n",
        "\n",
        "Queda demostrado que a lo largo de las temporadas la tendencia es de utilizar delanteros denominados \"Bajos\" , salvo en la temporada 2014.\n",
        "\n",
        "Por otro lado tambien la media de altura tiene una tendencia a la baja luego de la temporada 2016 en adelante como se muestra en el grafico 'Altura Promedio de Delanteros Centro por Temporada'"
      ],
      "metadata": {
        "id": "vjiDpXDd-kj_"
      }
    }
  ]
}